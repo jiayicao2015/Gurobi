{
 "cells": [
  {
   "cell_type": "markdown",
   "id": "95c60dd9-f4aa-4621-8655-0a92da5f283f",
   "metadata": {},
   "source": [
    "# Predicting Airbnb Prices using Gurobi Optimization"
   ]
  },
  {
   "cell_type": "markdown",
   "id": "6f01548a-6018-42a3-bff8-772e2202fbe4",
   "metadata": {},
   "source": [
    "## Data Set: \n",
    "The file AirbnbTrain.csv contains data on 1700 Airbnb listings in Hollywood, CA. \n",
    "The dataset contains features such as the location (by latitude and longitude), number of guests accomodated, number of beds, and other variables. The dataset also contains the price per night of each Airbnb listing."
   ]
  },
  {
   "attachments": {
    "b1a5e6ac-1ded-4655-b446-227fb3669544.png": {
     "image/png": "[encoded data removed]"
    }
   },
   "cell_type": "markdown",
   "id": "347a91d0-d67d-4f4f-8ae5-62916476a6e1",
   "metadata": {},
   "source": [
    "## Goal: \n",
    "Formulate optimization models to predict the price of Airbnb listings. Given a set of model coefficients β1, β2, . . . , βd, the average prediction error of the model β for a data set (xi, yi), i = 1, . . . , n is given by![Screen Shot 2022-02-01 at 4.14.29 PM.png](attachment:b1a5e6ac-1ded-4655-b446-227fb3669544.png)\n",
    "\n",
    "### Our goal is to use Gurobi Optimization tool to build models to minimize the above error term. In this project, I built three models based on different scenario and analyzed the effect them "
   ]
  },
  {
   "cell_type": "code",
   "execution_count": 3,
   "id": "07cfdec7-e6e2-4532-9bdb-1d6b89e6ec31",
   "metadata": {},
   "outputs": [
    {
     "data": {
      "text/html": [
       "<div>\n",
       "<style scoped>\n",
       "    .dataframe tbody tr th:only-of-type {\n",
       "        vertical-align: middle;\n",
       "    }\n",
       "\n",
       "    .dataframe tbody tr th {\n",
       "        vertical-align: top;\n",
       "    }\n",
       "\n",
       "    .dataframe thead th {\n",
       "        text-align: right;\n",
       "    }\n",
       "</style>\n",
       "<table border=\"1\" class=\"dataframe\">\n",
       "  <thead>\n",
       "    <tr style=\"text-align: right;\">\n",
       "      <th></th>\n",
       "      <th>latitude</th>\n",
       "      <th>longitude</th>\n",
       "      <th>Entire home</th>\n",
       "      <th>accommodates</th>\n",
       "      <th>bathrooms</th>\n",
       "      <th>bedrooms</th>\n",
       "      <th>beds</th>\n",
       "      <th>cleaning_fee</th>\n",
       "      <th>minimum_nights</th>\n",
       "      <th>number_of_reviews</th>\n",
       "      <th>review_scores_rating</th>\n",
       "      <th>instant_bookable</th>\n",
       "      <th>price</th>\n",
       "    </tr>\n",
       "  </thead>\n",
       "  <tbody>\n",
       "    <tr>\n",
       "      <th>0</th>\n",
       "      <td>34.103701</td>\n",
       "      <td>-118.332241</td>\n",
       "      <td>1</td>\n",
       "      <td>13</td>\n",
       "      <td>2.0</td>\n",
       "      <td>3</td>\n",
       "      <td>2</td>\n",
       "      <td>150</td>\n",
       "      <td>2</td>\n",
       "      <td>1</td>\n",
       "      <td>100</td>\n",
       "      <td>1</td>\n",
       "      <td>350</td>\n",
       "    </tr>\n",
       "    <tr>\n",
       "      <th>1</th>\n",
       "      <td>34.099484</td>\n",
       "      <td>-118.331645</td>\n",
       "      <td>1</td>\n",
       "      <td>8</td>\n",
       "      <td>2.0</td>\n",
       "      <td>2</td>\n",
       "      <td>4</td>\n",
       "      <td>150</td>\n",
       "      <td>1</td>\n",
       "      <td>11</td>\n",
       "      <td>96</td>\n",
       "      <td>1</td>\n",
       "      <td>190</td>\n",
       "    </tr>\n",
       "    <tr>\n",
       "      <th>2</th>\n",
       "      <td>34.104321</td>\n",
       "      <td>-118.329662</td>\n",
       "      <td>1</td>\n",
       "      <td>4</td>\n",
       "      <td>1.0</td>\n",
       "      <td>0</td>\n",
       "      <td>1</td>\n",
       "      <td>55</td>\n",
       "      <td>1</td>\n",
       "      <td>1</td>\n",
       "      <td>80</td>\n",
       "      <td>0</td>\n",
       "      <td>85</td>\n",
       "    </tr>\n",
       "    <tr>\n",
       "      <th>3</th>\n",
       "      <td>34.101028</td>\n",
       "      <td>-118.317848</td>\n",
       "      <td>0</td>\n",
       "      <td>2</td>\n",
       "      <td>1.0</td>\n",
       "      <td>1</td>\n",
       "      <td>1</td>\n",
       "      <td>20</td>\n",
       "      <td>1</td>\n",
       "      <td>8</td>\n",
       "      <td>98</td>\n",
       "      <td>0</td>\n",
       "      <td>75</td>\n",
       "    </tr>\n",
       "    <tr>\n",
       "      <th>4</th>\n",
       "      <td>34.098292</td>\n",
       "      <td>-118.324980</td>\n",
       "      <td>1</td>\n",
       "      <td>2</td>\n",
       "      <td>1.0</td>\n",
       "      <td>1</td>\n",
       "      <td>1</td>\n",
       "      <td>20</td>\n",
       "      <td>1</td>\n",
       "      <td>11</td>\n",
       "      <td>96</td>\n",
       "      <td>0</td>\n",
       "      <td>130</td>\n",
       "    </tr>\n",
       "  </tbody>\n",
       "</table>\n",
       "</div>"
      ],
      "text/plain": [
       "    latitude   longitude  Entire home  accommodates  bathrooms  bedrooms  \\\n",
       "0  34.103701 -118.332241            1            13        2.0         3   \n",
       "1  34.099484 -118.331645            1             8        2.0         2   \n",
       "2  34.104321 -118.329662            1             4        1.0         0   \n",
       "3  34.101028 -118.317848            0             2        1.0         1   \n",
       "4  34.098292 -118.324980            1             2        1.0         1   \n",
       "\n",
       "   beds  cleaning_fee  minimum_nights  number_of_reviews  \\\n",
       "0     2           150               2                  1   \n",
       "1     4           150               1                 11   \n",
       "2     1            55               1                  1   \n",
       "3     1            20               1                  8   \n",
       "4     1            20               1                 11   \n",
       "\n",
       "   review_scores_rating  instant_bookable  price  \n",
       "0                   100                 1    350  \n",
       "1                    96                 1    190  \n",
       "2                    80                 0     85  \n",
       "3                    98                 0     75  \n",
       "4                    96                 0    130  "
      ]
     },
     "execution_count": 3,
     "metadata": {},
     "output_type": "execute_result"
    }
   ],
   "source": [
    "from gurobipy import * \n",
    "import numpy as np \n",
    "import pandas as pd \n",
    "import csv\n",
    "\n",
    "train_set = \"/Users/jeremycao/Downloads/AirbnbTrain.csv\"\n",
    "df = pd.read_csv(train_set)\n",
    "df.head()"
   ]
  },
  {
   "cell_type": "code",
   "execution_count": 4,
   "id": "ff7035c8-07b3-4e1f-b414-084e789abac1",
   "metadata": {},
   "outputs": [
    {
     "data": {
      "text/plain": [
       "350.0"
      ]
     },
     "execution_count": 4,
     "metadata": {},
     "output_type": "execute_result"
    }
   ],
   "source": [
    "x = np.asarray(df) #initial price\n",
    "x[0,12]"
   ]
  },
  {
   "cell_type": "markdown",
   "id": "464c5001-7e09-4905-93fd-cf17ebf44a37",
   "metadata": {},
   "source": [
    "### MODEL 1:\n",
    "In Model 1, we formulate the least absolute deviations regression problem as a linear program. "
   ]
  },
  {
   "cell_type": "code",
   "execution_count": 7,
   "id": "78196cdd-f3c1-473c-b1f1-f4825ca106e8",
   "metadata": {},
   "outputs": [],
   "source": [
    "#Model 1\n",
    "from gurobipy import * \n",
    "\n",
    "mod = Model()\n",
    "m = mod.addVars(12) # 12 X variables\n",
    "z = mod.addVars(1700) # 1700 rows of data's predition error term"
   ]
  },
  {
   "cell_type": "code",
   "execution_count": 11,
   "id": "f5189ee8-a4cd-4de2-af42-d5837d7edda5",
   "metadata": {},
   "outputs": [],
   "source": [
    "# constraint 1: for each row of data, the error term should be in the absolute bundary.\n",
    "for i in range(1700):\n",
    "    mod.addConstr(z[i] >= x[i,12] - sum(m[j]*x[i,j] for j in range(12))) \n",
    "    mod.addConstr(z[i] >= sum(m[j]*x[i,j] for j in range(12)) - x[i,12])"
   ]
  },
  {
   "cell_type": "code",
   "execution_count": 12,
   "id": "eba7cb6a-645e-47be-98f7-f69c55673a08",
   "metadata": {},
   "outputs": [
    {
     "name": "stdout",
     "output_type": "stream",
     "text": [
      "Gurobi Optimizer version 9.5.0 build v9.5.0rc5 (mac64[x86])\n",
      "Thread count: 4 physical cores, 8 logical processors, using up to 8 threads\n",
      "Optimize a model with 3400 rows, 1712 columns and 41372 nonzeros\n",
      "Model fingerprint: 0xa0d487df\n",
      "Coefficient statistics:\n",
      "  Matrix range     [5e-01, 5e+02]\n",
      "  Objective range  [6e-04, 6e-04]\n",
      "  Bounds range     [0e+00, 0e+00]\n",
      "  RHS range        [1e+01, 2e+03]\n",
      "\n",
      "Concurrent LP optimizer: dual simplex and barrier\n",
      "Showing barrier log only...\n",
      "\n",
      "Presolve time: 0.03s\n",
      "Presolved: 3400 rows, 1712 columns, 41372 nonzeros\n",
      "\n",
      "Ordering time: 0.00s\n",
      "\n",
      "Barrier statistics:\n",
      " Dense cols : 12\n",
      " AA' NZ     : 2.995e+04\n",
      " Factor NZ  : 3.260e+04 (roughly 2 MB of memory)\n",
      " Factor Ops : 4.141e+05 (less than 1 second per iteration)\n",
      " Threads    : 1\n",
      "\n",
      "                  Objective                Residual\n",
      "Iter       Primal          Dual         Primal    Dual     Compl     Time\n",
      "   0   2.13176381e+03  0.00000000e+00  1.36e+03 0.00e+00  2.72e+01     0s\n",
      "   1   1.42686270e+03  1.34119445e+00  0.00e+00 2.37e-04  3.00e+00     0s\n",
      "   2   1.57239143e+02  4.40229493e+00  0.00e+00 6.27e-05  3.18e-01     0s\n",
      "   3   4.71971537e+01  1.62843637e+01  0.00e+00 1.20e-05  6.40e-02     0s\n",
      "   4   3.86444102e+01  3.23128367e+01  0.00e+00 5.55e-17  1.31e-02     0s\n",
      "   5   3.72124774e+01  3.53526314e+01  0.00e+00 2.78e-17  3.84e-03     0s\n",
      "   6   3.66559332e+01  3.61349388e+01  0.00e+00 2.78e-17  1.08e-03     0s\n",
      "   7   3.65009139e+01  3.63156493e+01  0.00e+00 2.78e-17  3.83e-04     0s\n",
      "   8   3.64480314e+01  3.64077685e+01  0.00e+00 2.78e-17  8.32e-05     0s\n",
      "   9   3.64281788e+01  3.64238937e+01  0.00e+00 2.78e-17  8.86e-06     0s\n",
      "  10   3.64263453e+01  3.64258582e+01  0.00e+00 2.78e-17  1.01e-06     0s\n",
      "  11   3.64262531e+01  3.64262432e+01  0.00e+00 5.43e-12  2.06e-08     0s\n",
      "  12   3.64262474e+01  3.64262474e+01  0.00e+00 1.20e-10  2.29e-11     0s\n",
      "  13   3.64262474e+01  3.64262474e+01  0.00e+00 5.23e-13  2.29e-14     0s\n",
      "\n",
      "Barrier solved model in 13 iterations and 0.12 seconds (0.04 work units)\n",
      "Optimal objective 3.64262474e+01\n",
      "\n",
      "Crossover log...\n",
      "\n",
      "      18 DPushes remaining with DInf 0.0000000e+00                 0s\n",
      "       0 DPushes remaining with DInf 0.0000000e+00                 0s\n",
      "\n",
      "       0 PPushes remaining with PInf 0.0000000e+00                 0s\n",
      "\n",
      "  Push phase complete: Pinf 0.0000000e+00, Dinf 3.2873010e-15      0s\n",
      "\n",
      "Iteration    Objective       Primal Inf.    Dual Inf.      Time\n",
      "      21    3.6426247e+01   0.000000e+00   0.000000e+00      0s\n",
      "\n",
      "Use crossover to convert LP symmetric solution to basic solution...\n",
      "Crossover log...\n",
      "\n",
      "       0 DPushes remaining with DInf 0.0000000e+00                 0s\n",
      "\n",
      "       0 PPushes remaining with PInf 0.0000000e+00                 0s\n",
      "\n",
      "  Push phase complete: Pinf 0.0000000e+00, Dinf 2.9568362e-15      0s\n",
      "\n",
      "Iteration    Objective       Primal Inf.    Dual Inf.      Time\n",
      "      37    3.6426247e+01   0.000000e+00   0.000000e+00      0s\n",
      "\n",
      "Solved with barrier\n",
      "Solved in 37 iterations and 0.17 seconds (0.05 work units)\n",
      "Optimal objective  3.642624740e+01\n"
     ]
    }
   ],
   "source": [
    "mod.setObjective(sum(z[i] for i in range(1700)) / 1700, GRB.MINIMIZE) # Minimize sum of error\n",
    "\n",
    "mod.update()\n",
    "mod.optimize()\n",
    "opt_val1 = mod.objval"
   ]
  },
  {
   "cell_type": "code",
   "execution_count": 17,
   "id": "2561de15-65d4-44b8-8d00-04c7dd93e7ee",
   "metadata": {},
   "outputs": [
    {
     "name": "stdout",
     "output_type": "stream",
     "text": [
      "latitude 290.25146635184893\n",
      "longitude 84.03092762130682\n",
      "Entire home 36.783237555536715\n",
      "accommodates 9.936817142125026\n",
      "bathrooms 31.694331188789405\n",
      "bedrooms 19.70395711447884\n",
      "beds 0.0\n",
      "cleaning_fee 0.3106162814102326\n",
      "minimum_nights 0.0\n",
      "number_of_reviews 0.0\n",
      "review_scores_rating 0.2681158824601206\n",
      "instant_bookable 5.167454373349855\n"
     ]
    }
   ],
   "source": [
    "# find the names and coefficients of the variables selected by the optimization model.\n",
    "for j in range(12):\n",
    "    print(list(df)[j], m[j].x)"
   ]
  },
  {
   "cell_type": "code",
   "execution_count": 15,
   "id": "019a5c94-55cd-4c01-a98d-7de021c901bd",
   "metadata": {},
   "outputs": [
    {
     "data": {
      "text/html": [
       "<div>\n",
       "<style scoped>\n",
       "    .dataframe tbody tr th:only-of-type {\n",
       "        vertical-align: middle;\n",
       "    }\n",
       "\n",
       "    .dataframe tbody tr th {\n",
       "        vertical-align: top;\n",
       "    }\n",
       "\n",
       "    .dataframe thead th {\n",
       "        text-align: right;\n",
       "    }\n",
       "</style>\n",
       "<table border=\"1\" class=\"dataframe\">\n",
       "  <thead>\n",
       "    <tr style=\"text-align: right;\">\n",
       "      <th></th>\n",
       "      <th>latitude</th>\n",
       "      <th>longitude</th>\n",
       "      <th>Entire home</th>\n",
       "      <th>accommodates</th>\n",
       "      <th>bathrooms</th>\n",
       "      <th>bedrooms</th>\n",
       "      <th>beds</th>\n",
       "      <th>cleaning_fee</th>\n",
       "      <th>minimum_nights</th>\n",
       "      <th>number_of_reviews</th>\n",
       "      <th>review_scores_rating</th>\n",
       "      <th>instant_bookable</th>\n",
       "      <th>price</th>\n",
       "    </tr>\n",
       "  </thead>\n",
       "  <tbody>\n",
       "    <tr>\n",
       "      <th>0</th>\n",
       "      <td>34.100604</td>\n",
       "      <td>-118.341787</td>\n",
       "      <td>0</td>\n",
       "      <td>2</td>\n",
       "      <td>1.0</td>\n",
       "      <td>1</td>\n",
       "      <td>1</td>\n",
       "      <td>40</td>\n",
       "      <td>1</td>\n",
       "      <td>261</td>\n",
       "      <td>96</td>\n",
       "      <td>1</td>\n",
       "      <td>100</td>\n",
       "    </tr>\n",
       "    <tr>\n",
       "      <th>1</th>\n",
       "      <td>34.100607</td>\n",
       "      <td>-118.350583</td>\n",
       "      <td>1</td>\n",
       "      <td>8</td>\n",
       "      <td>2.0</td>\n",
       "      <td>2</td>\n",
       "      <td>2</td>\n",
       "      <td>100</td>\n",
       "      <td>2</td>\n",
       "      <td>10</td>\n",
       "      <td>98</td>\n",
       "      <td>0</td>\n",
       "      <td>300</td>\n",
       "    </tr>\n",
       "    <tr>\n",
       "      <th>2</th>\n",
       "      <td>34.100610</td>\n",
       "      <td>-118.347617</td>\n",
       "      <td>1</td>\n",
       "      <td>2</td>\n",
       "      <td>1.0</td>\n",
       "      <td>1</td>\n",
       "      <td>1</td>\n",
       "      <td>80</td>\n",
       "      <td>2</td>\n",
       "      <td>1</td>\n",
       "      <td>100</td>\n",
       "      <td>1</td>\n",
       "      <td>125</td>\n",
       "    </tr>\n",
       "    <tr>\n",
       "      <th>3</th>\n",
       "      <td>34.100611</td>\n",
       "      <td>-118.342180</td>\n",
       "      <td>1</td>\n",
       "      <td>3</td>\n",
       "      <td>1.0</td>\n",
       "      <td>0</td>\n",
       "      <td>2</td>\n",
       "      <td>55</td>\n",
       "      <td>2</td>\n",
       "      <td>54</td>\n",
       "      <td>97</td>\n",
       "      <td>1</td>\n",
       "      <td>169</td>\n",
       "    </tr>\n",
       "    <tr>\n",
       "      <th>4</th>\n",
       "      <td>34.100618</td>\n",
       "      <td>-118.342791</td>\n",
       "      <td>1</td>\n",
       "      <td>4</td>\n",
       "      <td>1.0</td>\n",
       "      <td>1</td>\n",
       "      <td>1</td>\n",
       "      <td>70</td>\n",
       "      <td>2</td>\n",
       "      <td>233</td>\n",
       "      <td>92</td>\n",
       "      <td>1</td>\n",
       "      <td>119</td>\n",
       "    </tr>\n",
       "  </tbody>\n",
       "</table>\n",
       "</div>"
      ],
      "text/plain": [
       "    latitude   longitude  Entire home  accommodates  bathrooms  bedrooms  \\\n",
       "0  34.100604 -118.341787            0             2        1.0         1   \n",
       "1  34.100607 -118.350583            1             8        2.0         2   \n",
       "2  34.100610 -118.347617            1             2        1.0         1   \n",
       "3  34.100611 -118.342180            1             3        1.0         0   \n",
       "4  34.100618 -118.342791            1             4        1.0         1   \n",
       "\n",
       "   beds  cleaning_fee  minimum_nights  number_of_reviews  \\\n",
       "0     1            40               1                261   \n",
       "1     2           100               2                 10   \n",
       "2     1            80               2                  1   \n",
       "3     2            55               2                 54   \n",
       "4     1            70               2                233   \n",
       "\n",
       "   review_scores_rating  instant_bookable  price  \n",
       "0                    96                 1    100  \n",
       "1                    98                 0    300  \n",
       "2                   100                 1    125  \n",
       "3                    97                 1    169  \n",
       "4                    92                 1    119  "
      ]
     },
     "execution_count": 15,
     "metadata": {},
     "output_type": "execute_result"
    }
   ],
   "source": [
    "test_set = \"/Users/jeremycao/Downloads/AirbnbTest.csv\"\n",
    "df2 = pd.read_csv(test_set) #Test Set\n",
    "df2.head() "
   ]
  },
  {
   "cell_type": "code",
   "execution_count": 20,
   "id": "4b8f6025-b93b-4d13-85d4-7533d90872e0",
   "metadata": {},
   "outputs": [
    {
     "name": "stdout",
     "output_type": "stream",
     "text": [
      "The predict error of Model 1 is 35.60453503037783\n"
     ]
    }
   ],
   "source": [
    "# Find Out the prediction error of Model 1\n",
    "beta1 = []\n",
    "for j in range(12):\n",
    "    beta1.append(m[j].x)\n",
    "x_test = np.asarray(df2)\n",
    "error1 = (sum(abs(x_test[i,12] - sum(beta1[j]*x_test[i,j] for j in range(12))) for i in range(699)))/699\n",
    "print(\"The predict error of Model 1 is\", error1)"
   ]
  },
  {
   "cell_type": "markdown",
   "id": "2d7b2c3e-0df7-4ea5-9d86-a5e5245938d7",
   "metadata": {},
   "source": [
    "### Model 1 Conclusion\n",
    "\n",
    "#### In this model, we used gurobi optimization to select variables from train set to build the model to predict Price in the Test Set. The prediction error we got is 35.06"
   ]
  },
  {
   "cell_type": "markdown",
   "id": "85d5156b-6132-4047-a09a-9d633e8fe730",
   "metadata": {},
   "source": [
    "### MODEL 2:\n",
    "to improve interpretability, I build a model that predicts Airbnb prices using only the three most important variables."
   ]
  },
  {
   "cell_type": "code",
   "execution_count": 22,
   "id": "8b1f41a6-eed1-427d-b788-11522a34f8b2",
   "metadata": {},
   "outputs": [
    {
     "name": "stdout",
     "output_type": "stream",
     "text": [
      "Gurobi Optimizer version 9.5.0 build v9.5.0rc5 (mac64[x86])\n",
      "Thread count: 4 physical cores, 8 logical processors, using up to 8 threads\n",
      "Optimize a model with 3413 rows, 1724 columns and 41408 nonzeros\n",
      "Model fingerprint: 0x68bb8d35\n",
      "Variable types: 1712 continuous, 12 integer (12 binary)\n",
      "Coefficient statistics:\n",
      "  Matrix range     [5e-01, 1e+05]\n",
      "  Objective range  [6e-04, 6e-04]\n",
      "  Bounds range     [1e+00, 1e+00]\n",
      "  RHS range        [3e+00, 2e+03]\n",
      "Found heuristic solution: objective 144.9682353\n",
      "Presolve removed 828 rows and 414 columns\n",
      "Presolve time: 0.05s\n",
      "Presolved: 2585 rows, 1310 columns, 31274 nonzeros\n",
      "Variable types: 1298 continuous, 12 integer (12 binary)\n",
      "\n",
      "Root relaxation: objective 3.642625e+01, 1371 iterations, 0.20 seconds (0.35 work units)\n",
      "\n",
      "    Nodes    |    Current Node    |     Objective Bounds      |     Work\n",
      " Expl Unexpl |  Obj  Depth IntInf | Incumbent    BestBd   Gap | It/Node Time\n",
      "\n",
      "     0     0   36.42625    0    5  144.96824   36.42625  74.9%     -    0s\n",
      "H    0     0                      60.4061054   36.42625  39.7%     -    0s\n",
      "     0     0   36.42625    0   10   60.40611   36.42625  39.7%     -    0s\n",
      "H    0     0                      42.3320138   36.42625  14.0%     -    0s\n",
      "     0     0   36.43906    0   10   42.33201   36.43906  13.9%     -    0s\n",
      "     0     0   36.45828    0    9   42.33201   36.45828  13.9%     -    0s\n",
      "     0     0   36.45828    0   11   42.33201   36.45828  13.9%     -    0s\n",
      "     0     0   36.88065    0   10   42.33201   36.88065  12.9%     -    0s\n",
      "     0     0   36.88065    0   10   42.33201   36.88065  12.9%     -    0s\n",
      "H    0     0                      41.1147984   36.88065  10.3%     -    0s\n",
      "     0     0   36.88065    0   10   41.11480   36.88065  10.3%     -    0s\n",
      "     0     0   36.88065    0   10   41.11480   36.88065  10.3%     -    0s\n",
      "     0     0   36.88065    0    9   41.11480   36.88065  10.3%     -    1s\n",
      "     0     0   36.88065    0   10   41.11480   36.88065  10.3%     -    1s\n",
      "H    0     0                      40.0730147   36.88065  7.97%     -    1s\n",
      "     0     0   36.88065    0    9   40.07301   36.88065  7.97%     -    1s\n",
      "     0     0   36.88065    0    9   40.07301   36.88065  7.97%     -    1s\n",
      "     0     2   36.88065    0    9   40.07301   36.88065  7.97%     -    1s\n",
      "*    9    10               3      39.6099845   36.88065  6.89%   133    1s\n",
      "*   16    12               4      38.3388235   37.22830  2.90%   156    1s\n",
      "\n",
      "Cutting planes:\n",
      "  Gomory: 1\n",
      "  MIR: 10\n",
      "  Flow cover: 79\n",
      "\n",
      "Explored 32 nodes (5960 simplex iterations) in 1.55 seconds (2.05 work units)\n",
      "Thread count was 8 (of 8 available processors)\n",
      "\n",
      "Solution count 7: 38.3388 39.61 40.073 ... 144.968\n",
      "\n",
      "Optimal solution found (tolerance 1.00e-04)\n",
      "Best objective 3.833882352941e+01, best bound 3.833882352941e+01, gap 0.0000%\n"
     ]
    }
   ],
   "source": [
    "#Model 2\n",
    "from gurobipy import *\n",
    "\n",
    "mod = Model()\n",
    "\n",
    "m = mod.addVars(12) # 12 X variables\n",
    "z = mod.addVars(1700) # 1700 rows of data's predition error term\n",
    "p = mod.addVars(12, vtype = GRB.BINARY) # We set a binary variable equal to 1 if that x varibale is included in this model to predict Airbnb Price.\n",
    "max_bar = 100000\n",
    "\n",
    "mod.addConstr(sum(p[j] for j in range(12)) == 3) #constraints to select 3 variavles\n",
    "\n",
    "for j in range(12):\n",
    "    mod.addConstr(m[j] <= max_bar*p[j])\n",
    "    \n",
    "for i in range(1700):\n",
    "    mod.addConstr(z[i] >= x[i,12] - sum(m[j]*x[i,j] for j in range(12)))  #constraints from model 1\n",
    "    mod.addConstr(z[i] >= sum(m[j]*x[i,j] for j in range(12)) - x[i,12])\n",
    "\n",
    "mod.setObjective(sum(z[i] for i in range(1700)) / 1700, GRB.MINIMIZE) # Minimize sum of error\n",
    "\n",
    "mod.update()\n",
    "mod.optimize()\n",
    "\n",
    "opt_val2 = mod.objval"
   ]
  },
  {
   "cell_type": "code",
   "execution_count": 24,
   "id": "ac693a7b-7cef-4d89-81d4-982b454381da",
   "metadata": {},
   "outputs": [
    {
     "name": "stdout",
     "output_type": "stream",
     "text": [
      "latitude 0.0\n",
      "longitude 0.0\n",
      "Entire home 52.0\n",
      "accommodates 14.0\n",
      "bathrooms 0.0\n",
      "bedrooms 32.0\n",
      "beds 0.0\n",
      "cleaning_fee 0.0\n",
      "minimum_nights 0.0\n",
      "number_of_reviews 0.0\n",
      "review_scores_rating 0.0\n",
      "instant_bookable 0.0\n"
     ]
    }
   ],
   "source": [
    "for j in range(12): #find the names and coefficients of the three variables selected by the optimization model.\n",
    "    print(list(df)[j], m[j].x)"
   ]
  },
  {
   "cell_type": "markdown",
   "id": "9cadc8f2-f329-4976-8ecd-1ce7691e2daa",
   "metadata": {},
   "source": [
    "***The three variables are Entire home, accommodates, and bedrooms***\n",
    "***coefficients related to three variables are 52.0, 14.0 and 32.0***"
   ]
  },
  {
   "cell_type": "code",
   "execution_count": 28,
   "id": "4cfa1dbb-833b-47bf-9e72-1a403831c0d2",
   "metadata": {},
   "outputs": [
    {
     "name": "stdout",
     "output_type": "stream",
     "text": [
      "The predict error of Model 2 is 37.73676680972818\n"
     ]
    }
   ],
   "source": [
    "# Find Out the prediction error of Model 2\n",
    "beta2 = [] \n",
    "for j in range(12):\n",
    "    beta2.append(m[j].x)\n",
    "x_test2 = np.asarray(df2)\n",
    "error_2 = (sum(abs(x_test2[i,12] - sum(beta2[j]*x_test2[i,j] for j in range(12))) for i in range(699)))/699\n",
    "print(\"The predict error of Model 2 is\", error_2)"
   ]
  },
  {
   "cell_type": "markdown",
   "id": "5d41c6e8-bd8f-4c12-a025-af91e57232fa",
   "metadata": {},
   "source": [
    "### Model 2 Conclusion\n",
    "\n",
    "#### In this model, we used gurobi optimization to select three most variables from train set to build the model to predict Price in the Test Set. The prediction error we got is 37.74, which is bigger than Model 1.This makes sense because omitted varibales will decrease the precision of the model(higher prediction error)"
   ]
  },
  {
   "cell_type": "markdown",
   "id": "230c18ca-e0b8-4629-8801-1053fa870e7b",
   "metadata": {},
   "source": [
    "### MODEL 3: in this model, I want to build a model that predicts Airbnb listing price using only three variables, where one of the variables is the number of beds."
   ]
  },
  {
   "cell_type": "code",
   "execution_count": 29,
   "id": "7bfa2c03-c5b5-4457-a9e6-682e6f6810bc",
   "metadata": {},
   "outputs": [
    {
     "name": "stdout",
     "output_type": "stream",
     "text": [
      "Gurobi Optimizer version 9.5.0 build v9.5.0rc5 (mac64[x86])\n",
      "Thread count: 4 physical cores, 8 logical processors, using up to 8 threads\n",
      "Optimize a model with 3414 rows, 1724 columns and 41409 nonzeros\n",
      "Model fingerprint: 0x5944a889\n",
      "Variable types: 1712 continuous, 12 integer (12 binary)\n",
      "Coefficient statistics:\n",
      "  Matrix range     [5e-01, 1e+05]\n",
      "  Objective range  [6e-04, 6e-04]\n",
      "  Bounds range     [1e+00, 1e+00]\n",
      "  RHS range        [1e+00, 2e+03]\n",
      "Found heuristic solution: objective 144.9682353\n",
      "Presolve removed 830 rows and 415 columns\n",
      "Presolve time: 0.05s\n",
      "Presolved: 2584 rows, 1309 columns, 31271 nonzeros\n",
      "Variable types: 1298 continuous, 11 integer (11 binary)\n",
      "\n",
      "Root relaxation: objective 3.642625e+01, 1402 iterations, 0.20 seconds (0.35 work units)\n",
      "\n",
      "    Nodes    |    Current Node    |     Objective Bounds      |     Work\n",
      " Expl Unexpl |  Obj  Depth IntInf | Incumbent    BestBd   Gap | It/Node Time\n",
      "\n",
      "     0     0   36.42625    0    6  144.96824   36.42625  74.9%     -    0s\n",
      "H    0     0                      48.6456459   36.42625  25.1%     -    0s\n",
      "     0     0   36.42986    0    9   48.64565   36.42986  25.1%     -    0s\n",
      "     0     0   36.43101    0    9   48.64565   36.43101  25.1%     -    0s\n",
      "     0     0   36.43108    0   10   48.64565   36.43108  25.1%     -    0s\n",
      "H    0     0                      41.7241765   36.43108  12.7%     -    0s\n",
      "     0     0   36.44049    0   10   41.72418   36.44049  12.7%     -    0s\n",
      "     0     0   36.44292    0   10   41.72418   36.44292  12.7%     -    0s\n",
      "     0     0   36.47892    0    9   41.72418   36.47892  12.6%     -    0s\n",
      "     0     0   36.48955    0   10   41.72418   36.48955  12.5%     -    0s\n",
      "     0     0   36.50936    0    9   41.72418   36.50936  12.5%     -    0s\n",
      "     0     0   36.51155    0    8   41.72418   36.51155  12.5%     -    0s\n",
      "     0     0   36.52447    0   11   41.72418   36.52447  12.5%     -    1s\n",
      "     0     0   36.53257    0   11   41.72418   36.53257  12.4%     -    1s\n",
      "     0     0   36.55644    0    9   41.72418   36.55644  12.4%     -    1s\n",
      "     0     0   36.55974    0   10   41.72418   36.55974  12.4%     -    1s\n",
      "     0     0   36.56730    0   10   41.72418   36.56730  12.4%     -    1s\n",
      "     0     0   36.58539    0    9   41.72418   36.58539  12.3%     -    1s\n",
      "     0     0   36.88065    0   10   41.72418   36.88065  11.6%     -    1s\n",
      "     0     0   36.88065    0    9   41.72418   36.88065  11.6%     -    1s\n",
      "     0     0   36.88719    0    9   41.72418   36.88719  11.6%     -    1s\n",
      "     0     0   36.88719    0    8   41.72418   36.88719  11.6%     -    1s\n",
      "H    0     0                      40.3042518   36.88982  8.47%     -    1s\n",
      "     0     0   36.88982    0    9   40.30425   36.88982  8.47%     -    1s\n",
      "     0     0   37.61451    0    9   40.30425   37.61451  6.67%     -    1s\n",
      "     0     2   37.61451    0    9   40.30425   37.61451  6.67%     -    1s\n",
      "*    5     6               2      40.0730147   37.61451  6.14%   183    1s\n",
      "\n",
      "Cutting planes:\n",
      "  Gomory: 1\n",
      "  Implied bound: 1\n",
      "  MIR: 9\n",
      "  Flow cover: 181\n",
      "  Relax-and-lift: 1\n",
      "\n",
      "Explored 17 nodes (5807 simplex iterations) in 1.98 seconds (1.99 work units)\n",
      "Thread count was 8 (of 8 available processors)\n",
      "\n",
      "Solution count 5: 40.073 40.3043 41.7242 ... 144.968\n",
      "\n",
      "Optimal solution found (tolerance 1.00e-04)\n",
      "Best objective 4.007301470588e+01, best bound 4.007301470588e+01, gap 0.0000%\n"
     ]
    }
   ],
   "source": [
    "#Model 3\n",
    "from gurobipy import * \n",
    "mod = Model()\n",
    "\n",
    "m = mod.addVars(12) # 12 X variables\n",
    "z = mod.addVars(1700) # 1700 rows of data's predition error term\n",
    "p = mod.addVars(12, vtype = GRB.BINARY) # We set a binary variable equal to 1 if that x varibale is included in this model to predict Airbnb Price.\n",
    "max_bar = 100000\n",
    "\n",
    "mod.addConstr(p[6] == 1) #contraint to make sure '# of beds' is selected\n",
    "mod.addConstr(sum(p[j] for j in range(12)) == 3) #constraints to select 3 variavles\n",
    "\n",
    "for j in range(12): \n",
    "    mod.addConstr(m[j] <= max_bar*p[j])\n",
    "    \n",
    "for i in range(1700): # Constraint from model 1\n",
    "    mod.addConstr(z[i] >= x[i,12] - sum(m[j]*x[i,j] for j in range(12))) \n",
    "    mod.addConstr(z[i] >= sum(m[j]*x[i,j] for j in range(12)) - x[i,12])\n",
    "\n",
    "mod.setObjective(sum(z[i] for i in range(1700)) / 1700, GRB.MINIMIZE) # Minimize sum of error\n",
    "\n",
    "mod.update()\n",
    "mod.optimize()\n",
    "\n",
    "opt_val3 = mod.objval"
   ]
  },
  {
   "cell_type": "code",
   "execution_count": 30,
   "id": "0ec55e55-cbbf-45e1-b62d-f92459db4654",
   "metadata": {},
   "outputs": [
    {
     "name": "stdout",
     "output_type": "stream",
     "text": [
      "latitude 0.0\n",
      "longitude 0.0\n",
      "Entire home 67.875\n",
      "accommodates 0.0\n",
      "bathrooms 0.0\n",
      "bedrooms 47.375\n",
      "beds 12.125000000000002\n",
      "cleaning_fee 0.0\n",
      "minimum_nights 0.0\n",
      "number_of_reviews 0.0\n",
      "review_scores_rating 0.0\n",
      "instant_bookable 0.0\n"
     ]
    }
   ],
   "source": [
    "for j in range(12):\n",
    "    print(list(df)[j], m[j].x)"
   ]
  },
  {
   "cell_type": "markdown",
   "id": "07e69431-4fff-4946-b9f7-924413c8f3ab",
   "metadata": {},
   "source": [
    "***The two other variables besides # of beds are 'Entire home' and 'bedrooms'***"
   ]
  },
  {
   "cell_type": "markdown",
   "id": "dfc84bd3-e45d-4106-b277-db2e903731e6",
   "metadata": {},
   "source": [
    "***coefficients related to 'entire home' is 67.875 and 'bedrooms' is 12.125***"
   ]
  },
  {
   "cell_type": "markdown",
   "id": "96faf76e-2ff7-4afc-84f2-35a6f25214ff",
   "metadata": {},
   "source": [
    "***Compared to Model 2, The coeficient that is no longer in Model 3 is accommodates. In my opinion, the entire home and bedrooms are the 2 main features to determine the prices. Moreover, the number of beds (beds) and accomodates are kind of similar features to decide how many people can book a Airbnb. But number of beds are always more important to make the decision. Thus, accomodates was the feature to be dropped. This also makes sense***"
   ]
  },
  {
   "cell_type": "code",
   "execution_count": 31,
   "id": "107573c8-a5b5-4ec9-8d56-e964ccd230a6",
   "metadata": {},
   "outputs": [
    {
     "name": "stdout",
     "output_type": "stream",
     "text": [
      "The predict error of Model 3 is 38.59960658082976\n"
     ]
    }
   ],
   "source": [
    "beta3 = []\n",
    "for j in range(12):\n",
    "    beta3.append(m[j].x)\n",
    "x_test3 = np.asarray(df2)\n",
    "error_3 = (sum(abs(x_test3[i,12] - sum(beta3[j]*x_test3[i,j] for j in range(12))) for i in range(699)))/699\n",
    "print(\"The predict error of Model 3 is\", error_3)"
   ]
  },
  {
   "cell_type": "markdown",
   "id": "57c5f215-f5e0-400d-bf32-a0acb06976a5",
   "metadata": {},
   "source": [
    "### Model 2 Conclusion\n",
    "\n",
    "#### In this model, we used gurobi optimization to select three variables from train set(number of beds must be included) to build the model to predict Price in the Test Set. The prediction error we got is 38.60, which is bigger than Model 2.This makes sense because the variable we omitted in model 3 is one of the most important variables we selected in model 2. It was dropped only because it is less important than 'entire home' and 'bedrooms'. But it is more important than 'number of beds'. "
   ]
  }
 ],
 "metadata": {
  "kernelspec": {
   "display_name": "Python 3",
   "language": "python",
   "name": "python3"
  },
  "language_info": {
   "codemirror_mode": {
    "name": "ipython",
    "version": 3
   },
   "file_extension": ".py",
   "mimetype": "text/x-python",
   "name": "python",
   "nbconvert_exporter": "python",
   "pygments_lexer": "ipython3",
   "version": "3.8.8"
  }
 },
 "nbformat": 4,
 "nbformat_minor": 5
}
