{
 "cells": [
  {
   "cell_type": "markdown",
   "id": "347a91d0-d67d-4f4f-8ae5-62916476a6e1",
   "metadata": {},
   "source": [
    "# MGMTMSA 403: Optimization\n",
    "\n",
    "# Assignment 3: Predicting Airbnb Prices"
   ]
  },
  {
   "cell_type": "code",
   "execution_count": 1,
   "id": "07cfdec7-e6e2-4532-9bdb-1d6b89e6ec31",
   "metadata": {},
   "outputs": [
    {
     "data": {
      "text/html": [
       "<div>\n",
       "<style scoped>\n",
       "    .dataframe tbody tr th:only-of-type {\n",
       "        vertical-align: middle;\n",
       "    }\n",
       "\n",
       "    .dataframe tbody tr th {\n",
       "        vertical-align: top;\n",
       "    }\n",
       "\n",
       "    .dataframe thead th {\n",
       "        text-align: right;\n",
       "    }\n",
       "</style>\n",
       "<table border=\"1\" class=\"dataframe\">\n",
       "  <thead>\n",
       "    <tr style=\"text-align: right;\">\n",
       "      <th></th>\n",
       "      <th>latitude</th>\n",
       "      <th>longitude</th>\n",
       "      <th>Entire home</th>\n",
       "      <th>accommodates</th>\n",
       "      <th>bathrooms</th>\n",
       "      <th>bedrooms</th>\n",
       "      <th>beds</th>\n",
       "      <th>cleaning_fee</th>\n",
       "      <th>minimum_nights</th>\n",
       "      <th>number_of_reviews</th>\n",
       "      <th>review_scores_rating</th>\n",
       "      <th>instant_bookable</th>\n",
       "      <th>price</th>\n",
       "    </tr>\n",
       "  </thead>\n",
       "  <tbody>\n",
       "    <tr>\n",
       "      <th>0</th>\n",
       "      <td>34.103701</td>\n",
       "      <td>-118.332241</td>\n",
       "      <td>1</td>\n",
       "      <td>13</td>\n",
       "      <td>2.0</td>\n",
       "      <td>3</td>\n",
       "      <td>2</td>\n",
       "      <td>150</td>\n",
       "      <td>2</td>\n",
       "      <td>1</td>\n",
       "      <td>100</td>\n",
       "      <td>1</td>\n",
       "      <td>350</td>\n",
       "    </tr>\n",
       "    <tr>\n",
       "      <th>1</th>\n",
       "      <td>34.099484</td>\n",
       "      <td>-118.331645</td>\n",
       "      <td>1</td>\n",
       "      <td>8</td>\n",
       "      <td>2.0</td>\n",
       "      <td>2</td>\n",
       "      <td>4</td>\n",
       "      <td>150</td>\n",
       "      <td>1</td>\n",
       "      <td>11</td>\n",
       "      <td>96</td>\n",
       "      <td>1</td>\n",
       "      <td>190</td>\n",
       "    </tr>\n",
       "    <tr>\n",
       "      <th>2</th>\n",
       "      <td>34.104321</td>\n",
       "      <td>-118.329662</td>\n",
       "      <td>1</td>\n",
       "      <td>4</td>\n",
       "      <td>1.0</td>\n",
       "      <td>0</td>\n",
       "      <td>1</td>\n",
       "      <td>55</td>\n",
       "      <td>1</td>\n",
       "      <td>1</td>\n",
       "      <td>80</td>\n",
       "      <td>0</td>\n",
       "      <td>85</td>\n",
       "    </tr>\n",
       "    <tr>\n",
       "      <th>3</th>\n",
       "      <td>34.101028</td>\n",
       "      <td>-118.317848</td>\n",
       "      <td>0</td>\n",
       "      <td>2</td>\n",
       "      <td>1.0</td>\n",
       "      <td>1</td>\n",
       "      <td>1</td>\n",
       "      <td>20</td>\n",
       "      <td>1</td>\n",
       "      <td>8</td>\n",
       "      <td>98</td>\n",
       "      <td>0</td>\n",
       "      <td>75</td>\n",
       "    </tr>\n",
       "    <tr>\n",
       "      <th>4</th>\n",
       "      <td>34.098292</td>\n",
       "      <td>-118.324980</td>\n",
       "      <td>1</td>\n",
       "      <td>2</td>\n",
       "      <td>1.0</td>\n",
       "      <td>1</td>\n",
       "      <td>1</td>\n",
       "      <td>20</td>\n",
       "      <td>1</td>\n",
       "      <td>11</td>\n",
       "      <td>96</td>\n",
       "      <td>0</td>\n",
       "      <td>130</td>\n",
       "    </tr>\n",
       "  </tbody>\n",
       "</table>\n",
       "</div>"
      ],
      "text/plain": [
       "    latitude   longitude  Entire home  accommodates  bathrooms  bedrooms  \\\n",
       "0  34.103701 -118.332241            1            13        2.0         3   \n",
       "1  34.099484 -118.331645            1             8        2.0         2   \n",
       "2  34.104321 -118.329662            1             4        1.0         0   \n",
       "3  34.101028 -118.317848            0             2        1.0         1   \n",
       "4  34.098292 -118.324980            1             2        1.0         1   \n",
       "\n",
       "   beds  cleaning_fee  minimum_nights  number_of_reviews  \\\n",
       "0     2           150               2                  1   \n",
       "1     4           150               1                 11   \n",
       "2     1            55               1                  1   \n",
       "3     1            20               1                  8   \n",
       "4     1            20               1                 11   \n",
       "\n",
       "   review_scores_rating  instant_bookable  price  \n",
       "0                   100                 1    350  \n",
       "1                    96                 1    190  \n",
       "2                    80                 0     85  \n",
       "3                    98                 0     75  \n",
       "4                    96                 0    130  "
      ]
     },
     "execution_count": 1,
     "metadata": {},
     "output_type": "execute_result"
    }
   ],
   "source": [
    "from gurobipy import * \n",
    "import numpy as np \n",
    "import pandas as pd \n",
    "import csv\n",
    "\n",
    "train_set = \"/Users/jeremycao/Downloads/AirbnbTrain.csv\"\n",
    "df = pd.read_csv(train_set)\n",
    "df.head()"
   ]
  },
  {
   "cell_type": "code",
   "execution_count": 2,
   "id": "ff7035c8-07b3-4e1f-b414-084e789abac1",
   "metadata": {},
   "outputs": [
    {
     "data": {
      "text/plain": [
       "350.0"
      ]
     },
     "execution_count": 2,
     "metadata": {},
     "output_type": "execute_result"
    }
   ],
   "source": [
    "x = np.asarray(df)\n",
    "x[0,12]"
   ]
  },
  {
   "cell_type": "markdown",
   "id": "464c5001-7e09-4905-93fd-cf17ebf44a37",
   "metadata": {},
   "source": [
    "### MODEL 1"
   ]
  },
  {
   "cell_type": "code",
   "execution_count": 3,
   "id": "78196cdd-f3c1-473c-b1f1-f4825ca106e8",
   "metadata": {},
   "outputs": [
    {
     "name": "stdout",
     "output_type": "stream",
     "text": [
      "Set parameter Username\n",
      "Academic license - for non-commercial use only - expires 2022-03-14\n"
     ]
    }
   ],
   "source": [
    "#Model 1\n",
    "from gurobipy import * \n",
    "\n",
    "mod = Model()\n",
    "m = mod.addVars(12)\n",
    "z = mod.addVars(1700)"
   ]
  },
  {
   "cell_type": "code",
   "execution_count": 4,
   "id": "f5189ee8-a4cd-4de2-af42-d5837d7edda5",
   "metadata": {},
   "outputs": [],
   "source": [
    "for i in range(1700):\n",
    "    mod.addConstr(z[i] >= x[i,12] - sum(m[j]*x[i,j] for j in range(12))) \n",
    "    mod.addConstr(z[i] >= sum(m[j]*x[i,j] for j in range(12)) - x[i,12])"
   ]
  },
  {
   "cell_type": "code",
   "execution_count": 5,
   "id": "eba7cb6a-645e-47be-98f7-f69c55673a08",
   "metadata": {},
   "outputs": [
    {
     "name": "stdout",
     "output_type": "stream",
     "text": [
      "Gurobi Optimizer version 9.5.0 build v9.5.0rc5 (mac64[x86])\n",
      "Thread count: 4 physical cores, 8 logical processors, using up to 8 threads\n",
      "Optimize a model with 3400 rows, 1712 columns and 41372 nonzeros\n",
      "Model fingerprint: 0xa0d487df\n",
      "Coefficient statistics:\n",
      "  Matrix range     [5e-01, 5e+02]\n",
      "  Objective range  [6e-04, 6e-04]\n",
      "  Bounds range     [0e+00, 0e+00]\n",
      "  RHS range        [1e+01, 2e+03]\n",
      "\n",
      "Concurrent LP optimizer: dual simplex and barrier\n",
      "Showing barrier log only...\n",
      "\n",
      "Presolve time: 0.02s\n",
      "Presolved: 3400 rows, 1712 columns, 41372 nonzeros\n",
      "\n",
      "Ordering time: 0.00s\n",
      "\n",
      "Barrier statistics:\n",
      " Dense cols : 12\n",
      " AA' NZ     : 2.995e+04\n",
      " Factor NZ  : 3.260e+04 (roughly 2 MB of memory)\n",
      " Factor Ops : 4.141e+05 (less than 1 second per iteration)\n",
      " Threads    : 1\n",
      "\n",
      "                  Objective                Residual\n",
      "Iter       Primal          Dual         Primal    Dual     Compl     Time\n",
      "   0   2.13176381e+03  0.00000000e+00  1.36e+03 0.00e+00  2.72e+01     0s\n",
      "   1   1.42686270e+03  1.34119445e+00  0.00e+00 2.37e-04  3.00e+00     0s\n",
      "   2   1.57239143e+02  4.40229493e+00  0.00e+00 6.27e-05  3.18e-01     0s\n",
      "   3   4.71971537e+01  1.62843637e+01  0.00e+00 1.20e-05  6.40e-02     0s\n",
      "   4   3.86444102e+01  3.23128367e+01  0.00e+00 5.55e-17  1.31e-02     0s\n",
      "   5   3.72124774e+01  3.53526314e+01  0.00e+00 2.78e-17  3.84e-03     0s\n",
      "   6   3.66559332e+01  3.61349388e+01  0.00e+00 2.78e-17  1.08e-03     0s\n",
      "   7   3.65009139e+01  3.63156493e+01  0.00e+00 2.78e-17  3.83e-04     0s\n",
      "   8   3.64480314e+01  3.64077685e+01  0.00e+00 2.78e-17  8.32e-05     0s\n",
      "   9   3.64281788e+01  3.64238937e+01  0.00e+00 2.78e-17  8.86e-06     0s\n",
      "  10   3.64263453e+01  3.64258582e+01  0.00e+00 2.78e-17  1.01e-06     0s\n",
      "  11   3.64262531e+01  3.64262432e+01  0.00e+00 5.43e-12  2.06e-08     0s\n",
      "  12   3.64262474e+01  3.64262474e+01  0.00e+00 1.20e-10  2.29e-11     0s\n",
      "  13   3.64262474e+01  3.64262474e+01  0.00e+00 5.23e-13  2.29e-14     0s\n",
      "\n",
      "Barrier solved model in 13 iterations and 0.10 seconds (0.04 work units)\n",
      "Optimal objective 3.64262474e+01\n",
      "\n",
      "Crossover log...\n",
      "\n",
      "      18 DPushes remaining with DInf 0.0000000e+00                 0s\n",
      "       0 DPushes remaining with DInf 0.0000000e+00                 0s\n",
      "\n",
      "       0 PPushes remaining with PInf 0.0000000e+00                 0s\n",
      "\n",
      "  Push phase complete: Pinf 0.0000000e+00, Dinf 3.2873010e-15      0s\n",
      "\n",
      "Iteration    Objective       Primal Inf.    Dual Inf.      Time\n",
      "      21    3.6426247e+01   0.000000e+00   0.000000e+00      0s\n",
      "\n",
      "Use crossover to convert LP symmetric solution to basic solution...\n",
      "Crossover log...\n",
      "\n",
      "       0 DPushes remaining with DInf 0.0000000e+00                 0s\n",
      "\n",
      "       0 PPushes remaining with PInf 0.0000000e+00                 0s\n",
      "\n",
      "  Push phase complete: Pinf 0.0000000e+00, Dinf 2.9568362e-15      0s\n",
      "\n",
      "Iteration    Objective       Primal Inf.    Dual Inf.      Time\n",
      "      37    3.6426247e+01   0.000000e+00   0.000000e+00      0s\n",
      "\n",
      "Solved with barrier\n",
      "Solved in 37 iterations and 0.14 seconds (0.05 work units)\n",
      "Optimal objective  3.642624740e+01\n"
     ]
    }
   ],
   "source": [
    "mod.setObjective(sum(z[i] for i in range(1700)) / 1700, GRB.MINIMIZE) \n",
    "\n",
    "mod.update()\n",
    "mod.optimize()\n",
    "opt_val1 = mod.objval"
   ]
  },
  {
   "cell_type": "code",
   "execution_count": 6,
   "id": "84f04843-0ad4-402a-9454-b69b63b3fe0a",
   "metadata": {},
   "outputs": [
    {
     "name": "stdout",
     "output_type": "stream",
     "text": [
      "[290.25146635184893, 84.03092762130682, 36.783237555536715, 9.936817142125026, 31.694331188789405, 19.70395711447884, 0.0, 0.3106162814102326, 0.0, 0.0, 0.2681158824601206, 5.167454373349855]\n"
     ]
    }
   ],
   "source": [
    "beta1 = []\n",
    "for j in range(12):\n",
    "    beta1.append(m[j].x)\n",
    "print(beta1)"
   ]
  },
  {
   "cell_type": "code",
   "execution_count": 7,
   "id": "019a5c94-55cd-4c01-a98d-7de021c901bd",
   "metadata": {},
   "outputs": [
    {
     "data": {
      "text/html": [
       "<div>\n",
       "<style scoped>\n",
       "    .dataframe tbody tr th:only-of-type {\n",
       "        vertical-align: middle;\n",
       "    }\n",
       "\n",
       "    .dataframe tbody tr th {\n",
       "        vertical-align: top;\n",
       "    }\n",
       "\n",
       "    .dataframe thead th {\n",
       "        text-align: right;\n",
       "    }\n",
       "</style>\n",
       "<table border=\"1\" class=\"dataframe\">\n",
       "  <thead>\n",
       "    <tr style=\"text-align: right;\">\n",
       "      <th></th>\n",
       "      <th>latitude</th>\n",
       "      <th>longitude</th>\n",
       "      <th>Entire home</th>\n",
       "      <th>accommodates</th>\n",
       "      <th>bathrooms</th>\n",
       "      <th>bedrooms</th>\n",
       "      <th>beds</th>\n",
       "      <th>cleaning_fee</th>\n",
       "      <th>minimum_nights</th>\n",
       "      <th>number_of_reviews</th>\n",
       "      <th>review_scores_rating</th>\n",
       "      <th>instant_bookable</th>\n",
       "      <th>price</th>\n",
       "    </tr>\n",
       "  </thead>\n",
       "  <tbody>\n",
       "    <tr>\n",
       "      <th>0</th>\n",
       "      <td>34.100604</td>\n",
       "      <td>-118.341787</td>\n",
       "      <td>0</td>\n",
       "      <td>2</td>\n",
       "      <td>1.0</td>\n",
       "      <td>1</td>\n",
       "      <td>1</td>\n",
       "      <td>40</td>\n",
       "      <td>1</td>\n",
       "      <td>261</td>\n",
       "      <td>96</td>\n",
       "      <td>1</td>\n",
       "      <td>100</td>\n",
       "    </tr>\n",
       "    <tr>\n",
       "      <th>1</th>\n",
       "      <td>34.100607</td>\n",
       "      <td>-118.350583</td>\n",
       "      <td>1</td>\n",
       "      <td>8</td>\n",
       "      <td>2.0</td>\n",
       "      <td>2</td>\n",
       "      <td>2</td>\n",
       "      <td>100</td>\n",
       "      <td>2</td>\n",
       "      <td>10</td>\n",
       "      <td>98</td>\n",
       "      <td>0</td>\n",
       "      <td>300</td>\n",
       "    </tr>\n",
       "    <tr>\n",
       "      <th>2</th>\n",
       "      <td>34.100610</td>\n",
       "      <td>-118.347617</td>\n",
       "      <td>1</td>\n",
       "      <td>2</td>\n",
       "      <td>1.0</td>\n",
       "      <td>1</td>\n",
       "      <td>1</td>\n",
       "      <td>80</td>\n",
       "      <td>2</td>\n",
       "      <td>1</td>\n",
       "      <td>100</td>\n",
       "      <td>1</td>\n",
       "      <td>125</td>\n",
       "    </tr>\n",
       "    <tr>\n",
       "      <th>3</th>\n",
       "      <td>34.100611</td>\n",
       "      <td>-118.342180</td>\n",
       "      <td>1</td>\n",
       "      <td>3</td>\n",
       "      <td>1.0</td>\n",
       "      <td>0</td>\n",
       "      <td>2</td>\n",
       "      <td>55</td>\n",
       "      <td>2</td>\n",
       "      <td>54</td>\n",
       "      <td>97</td>\n",
       "      <td>1</td>\n",
       "      <td>169</td>\n",
       "    </tr>\n",
       "    <tr>\n",
       "      <th>4</th>\n",
       "      <td>34.100618</td>\n",
       "      <td>-118.342791</td>\n",
       "      <td>1</td>\n",
       "      <td>4</td>\n",
       "      <td>1.0</td>\n",
       "      <td>1</td>\n",
       "      <td>1</td>\n",
       "      <td>70</td>\n",
       "      <td>2</td>\n",
       "      <td>233</td>\n",
       "      <td>92</td>\n",
       "      <td>1</td>\n",
       "      <td>119</td>\n",
       "    </tr>\n",
       "  </tbody>\n",
       "</table>\n",
       "</div>"
      ],
      "text/plain": [
       "    latitude   longitude  Entire home  accommodates  bathrooms  bedrooms  \\\n",
       "0  34.100604 -118.341787            0             2        1.0         1   \n",
       "1  34.100607 -118.350583            1             8        2.0         2   \n",
       "2  34.100610 -118.347617            1             2        1.0         1   \n",
       "3  34.100611 -118.342180            1             3        1.0         0   \n",
       "4  34.100618 -118.342791            1             4        1.0         1   \n",
       "\n",
       "   beds  cleaning_fee  minimum_nights  number_of_reviews  \\\n",
       "0     1            40               1                261   \n",
       "1     2           100               2                 10   \n",
       "2     1            80               2                  1   \n",
       "3     2            55               2                 54   \n",
       "4     1            70               2                233   \n",
       "\n",
       "   review_scores_rating  instant_bookable  price  \n",
       "0                    96                 1    100  \n",
       "1                    98                 0    300  \n",
       "2                   100                 1    125  \n",
       "3                    97                 1    169  \n",
       "4                    92                 1    119  "
      ]
     },
     "execution_count": 7,
     "metadata": {},
     "output_type": "execute_result"
    }
   ],
   "source": [
    "test_set = \"/Users/jeremycao/Downloads/AirbnbTest.csv\"\n",
    "df2 = pd.read_csv(test_set)\n",
    "df2.head()"
   ]
  },
  {
   "cell_type": "code",
   "execution_count": 8,
   "id": "4b8f6025-b93b-4d13-85d4-7533d90872e0",
   "metadata": {},
   "outputs": [
    {
     "name": "stdout",
     "output_type": "stream",
     "text": [
      "The predict error is 35.60453503037783\n"
     ]
    }
   ],
   "source": [
    "x_test = np.asarray(df2)\n",
    "error1 = (sum(abs(x_test[i,12] - sum(beta1[j]*x_test[i,j] for j in range(12))) for i in range(699)))/699\n",
    "print(\"The predict error is\", error1)"
   ]
  },
  {
   "cell_type": "markdown",
   "id": "85d5156b-6132-4047-a09a-9d633e8fe730",
   "metadata": {},
   "source": [
    "### MODEL 2"
   ]
  },
  {
   "cell_type": "code",
   "execution_count": 9,
   "id": "8b1f41a6-eed1-427d-b788-11522a34f8b2",
   "metadata": {},
   "outputs": [
    {
     "name": "stdout",
     "output_type": "stream",
     "text": [
      "Gurobi Optimizer version 9.5.0 build v9.5.0rc5 (mac64[x86])\n",
      "Thread count: 4 physical cores, 8 logical processors, using up to 8 threads\n",
      "Optimize a model with 3413 rows, 1724 columns and 41408 nonzeros\n",
      "Model fingerprint: 0xe9be68de\n",
      "Variable types: 1712 continuous, 12 integer (12 binary)\n",
      "Coefficient statistics:\n",
      "  Matrix range     [5e-01, 1e+05]\n",
      "  Objective range  [6e-04, 6e-04]\n",
      "  Bounds range     [1e+00, 1e+00]\n",
      "  RHS range        [3e+00, 2e+03]\n",
      "Found heuristic solution: objective 144.9682353\n",
      "Presolve removed 828 rows and 414 columns\n",
      "Presolve time: 0.05s\n",
      "Presolved: 2585 rows, 1310 columns, 31274 nonzeros\n",
      "Variable types: 1298 continuous, 12 integer (12 binary)\n",
      "\n",
      "Root relaxation: objective 3.642625e+01, 1408 iterations, 0.19 seconds (0.36 work units)\n",
      "\n",
      "    Nodes    |    Current Node    |     Objective Bounds      |     Work\n",
      " Expl Unexpl |  Obj  Depth IntInf | Incumbent    BestBd   Gap | It/Node Time\n",
      "\n",
      "     0     0   36.42625    0    5  144.96824   36.42625  74.9%     -    0s\n",
      "H    0     0                      61.6243748   36.42625  40.9%     -    0s\n",
      "     0     0   36.42625    0    8   61.62437   36.42625  40.9%     -    0s\n",
      "H    0     0                      41.7917647   36.42625  12.8%     -    0s\n",
      "     0     0   36.42929    0    9   41.79176   36.42929  12.8%     -    0s\n",
      "     0     0   36.43312    0   10   41.79176   36.43312  12.8%     -    0s\n",
      "     0     0   36.43906    0   11   41.79176   36.43906  12.8%     -    0s\n",
      "     0     0   36.43906    0   11   41.79176   36.43906  12.8%     -    0s\n",
      "H    0     0                      39.6076471   36.45828  7.95%     -    0s\n",
      "     0     0   36.48649    0   11   39.60765   36.48649  7.88%     -    0s\n",
      "     0     0   36.48649    0   12   39.60765   36.48649  7.88%     -    0s\n",
      "     0     0   37.25158    0   11   39.60765   37.25158  5.95%     -    1s\n",
      "     0     0   37.25158    0   10   39.60765   37.25158  5.95%     -    1s\n",
      "     0     0   37.26440    0   10   39.60765   37.26440  5.92%     -    1s\n",
      "     0     2   37.26440    0   10   39.60765   37.26440  5.92%     -    1s\n",
      "*   13    14               3      39.4945187   37.26440  5.65%   124    1s\n",
      "*   16    14               4      39.2200000   37.26440  4.99%   142    1s\n",
      "*   35    10               6      38.4441647   38.00538  1.14%   165    1s\n",
      "*   41     4               7      38.3388235   38.01089  0.86%   172    1s\n",
      "\n",
      "Cutting planes:\n",
      "  Gomory: 1\n",
      "  Implied bound: 1\n",
      "  MIR: 7\n",
      "  Flow cover: 79\n",
      "\n",
      "Explored 51 nodes (10413 simplex iterations) in 1.81 seconds (2.89 work units)\n",
      "Thread count was 8 (of 8 available processors)\n",
      "\n",
      "Solution count 8: 38.3388 38.4442 39.22 ... 144.968\n",
      "\n",
      "Optimal solution found (tolerance 1.00e-04)\n",
      "Best objective 3.833882352941e+01, best bound 3.833882352941e+01, gap 0.0000%\n"
     ]
    }
   ],
   "source": [
    "#Model 2\n",
    "x = np.asarray(df)\n",
    "x[0,12]\n",
    "\n",
    "from gurobipy import *\n",
    "\n",
    "mod = Model()\n",
    "\n",
    "m = mod.addVars(12)\n",
    "z = mod.addVars(1700)\n",
    "p = mod.addVars(12, vtype = GRB.BINARY)\n",
    "max_bar = 100000\n",
    "\n",
    "mod.addConstr(sum(p[j] for j in range(12)) <= 3)\n",
    "\n",
    "for j in range(12):\n",
    "    mod.addConstr(m[j] <= max_bar*p[j])\n",
    "    \n",
    "for i in range(1700):\n",
    "    mod.addConstr(z[i] >= x[i,12] - sum(m[j]*x[i,j] for j in range(12))) \n",
    "    mod.addConstr(z[i] >= sum(m[j]*x[i,j] for j in range(12)) - x[i,12])\n",
    "\n",
    "mod.setObjective(sum(z[i] for i in range(1700)) / 1700, GRB.MINIMIZE) \n",
    "\n",
    "mod.update()\n",
    "mod.optimize()\n",
    "\n",
    "opt_val2 = mod.objval"
   ]
  },
  {
   "cell_type": "code",
   "execution_count": 10,
   "id": "ac693a7b-7cef-4d89-81d4-982b454381da",
   "metadata": {},
   "outputs": [
    {
     "name": "stdout",
     "output_type": "stream",
     "text": [
      "latitude 0.0\n",
      "longitude -0.0\n",
      "Entire home 1.0\n",
      "accommodates 1.0\n",
      "bathrooms -0.0\n",
      "bedrooms 1.0\n",
      "beds -0.0\n",
      "cleaning_fee -0.0\n",
      "minimum_nights -0.0\n",
      "number_of_reviews -0.0\n",
      "review_scores_rating -0.0\n",
      "instant_bookable 0.0\n"
     ]
    }
   ],
   "source": [
    "for j in range(12):\n",
    "    print(list(df)[j], p[j].x)"
   ]
  },
  {
   "cell_type": "markdown",
   "id": "9cadc8f2-f329-4976-8ecd-1ce7691e2daa",
   "metadata": {},
   "source": [
    "***The three variables are Entire home, accommodates, and bedrooms***"
   ]
  },
  {
   "cell_type": "code",
   "execution_count": 11,
   "id": "a4998632-a726-44cc-a478-b115386dbbee",
   "metadata": {},
   "outputs": [
    {
     "name": "stdout",
     "output_type": "stream",
     "text": [
      "[0.0, 0.0, 52.00000000000002, 13.99999999999999, 0.0, 32.00000000000001, 0.0, 0.0, 0.0, 0.0, 0.0, 0.0]\n"
     ]
    }
   ],
   "source": [
    "beta2 = []\n",
    "for j in range(12):\n",
    "    beta2.append(m[j].x)\n",
    "print(beta2)"
   ]
  },
  {
   "cell_type": "markdown",
   "id": "9852581c-b677-4cef-88a3-824cfa9a35b3",
   "metadata": {},
   "source": [
    "***coefficients related to three variables are 52.0, 13.9999 and 32.0***"
   ]
  },
  {
   "cell_type": "code",
   "execution_count": 12,
   "id": "4cfa1dbb-833b-47bf-9e72-1a403831c0d2",
   "metadata": {},
   "outputs": [
    {
     "name": "stdout",
     "output_type": "stream",
     "text": [
      "The predict error of Model 2 is 37.73676680972818\n"
     ]
    }
   ],
   "source": [
    "x_test2 = np.asarray(df2)\n",
    "error_2 = (sum(abs(x_test2[i,12] - sum(beta2[j]*x_test2[i,j] for j in range(12))) for i in range(699)))/699\n",
    "print(\"The predict error of Model 2 is\", error_2)"
   ]
  },
  {
   "cell_type": "markdown",
   "id": "230c18ca-e0b8-4629-8801-1053fa870e7b",
   "metadata": {},
   "source": [
    "### MODEL 3"
   ]
  },
  {
   "cell_type": "code",
   "execution_count": 13,
   "id": "7bfa2c03-c5b5-4457-a9e6-682e6f6810bc",
   "metadata": {},
   "outputs": [
    {
     "name": "stdout",
     "output_type": "stream",
     "text": [
      "Gurobi Optimizer version 9.5.0 build v9.5.0rc5 (mac64[x86])\n",
      "Thread count: 4 physical cores, 8 logical processors, using up to 8 threads\n",
      "Optimize a model with 3414 rows, 1724 columns and 41409 nonzeros\n",
      "Model fingerprint: 0x139764d5\n",
      "Variable types: 1712 continuous, 12 integer (12 binary)\n",
      "Coefficient statistics:\n",
      "  Matrix range     [5e-01, 1e+05]\n",
      "  Objective range  [6e-04, 6e-04]\n",
      "  Bounds range     [1e+00, 1e+00]\n",
      "  RHS range        [1e+00, 2e+03]\n",
      "Found heuristic solution: objective 144.9682353\n",
      "Presolve removed 830 rows and 415 columns\n",
      "Presolve time: 0.04s\n",
      "Presolved: 2584 rows, 1309 columns, 31271 nonzeros\n",
      "Variable types: 1298 continuous, 11 integer (11 binary)\n",
      "\n",
      "Root relaxation: objective 3.642625e+01, 1408 iterations, 0.19 seconds (0.36 work units)\n",
      "\n",
      "    Nodes    |    Current Node    |     Objective Bounds      |     Work\n",
      " Expl Unexpl |  Obj  Depth IntInf | Incumbent    BestBd   Gap | It/Node Time\n",
      "\n",
      "     0     0   36.42625    0    6  144.96824   36.42625  74.9%     -    0s\n",
      "H    0     0                      48.6558384   36.42625  25.1%     -    0s\n",
      "     0     0   36.42625    0    9   48.65584   36.42625  25.1%     -    0s\n",
      "     0     0   36.42627    0    9   48.65584   36.42627  25.1%     -    0s\n",
      "     0     0   36.42996    0   10   48.65584   36.42996  25.1%     -    0s\n",
      "H    0     0                      46.2461650   36.43051  21.2%     -    0s\n",
      "     0     0   36.43051    0   10   46.24617   36.43051  21.2%     -    0s\n",
      "     0     0   36.45795    0    8   46.24617   36.45795  21.2%     -    0s\n",
      "     0     0   36.46001    0    8   46.24617   36.46001  21.2%     -    0s\n",
      "     0     0   36.51954    0    9   46.24617   36.51954  21.0%     -    0s\n",
      "     0     0   36.52137    0    9   46.24617   36.52137  21.0%     -    0s\n",
      "H    0     0                      43.6648090   36.88065  15.5%     -    1s\n",
      "     0     0   36.88065    0   10   43.66481   36.88065  15.5%     -    1s\n",
      "     0     0   36.88065    0    9   43.66481   36.88065  15.5%     -    1s\n",
      "H    0     0                      40.0730147   36.88065  7.97%     -    1s\n",
      "     0     0   36.88065    0    9   40.07301   36.88065  7.97%     -    1s\n",
      "     0     0   36.90253    0    9   40.07301   36.90253  7.91%     -    1s\n",
      "     0     0   37.99965    0    9   40.07301   37.99965  5.17%     -    1s\n",
      "     0     0   37.99965    0    9   40.07301   37.99965  5.17%     -    1s\n",
      "     0     0   38.02971    0    9   40.07301   38.02971  5.10%     -    1s\n",
      "     0     2   38.10574    0    9   40.07301   38.10574  4.91%     -    1s\n",
      "\n",
      "Cutting planes:\n",
      "  Implied bound: 2\n",
      "  MIR: 11\n",
      "  Flow cover: 159\n",
      "\n",
      "Explored 17 nodes (5496 simplex iterations) in 1.62 seconds (1.94 work units)\n",
      "Thread count was 8 (of 8 available processors)\n",
      "\n",
      "Solution count 5: 40.073 43.6648 46.2462 ... 144.968\n",
      "\n",
      "Optimal solution found (tolerance 1.00e-04)\n",
      "Best objective 4.007301470588e+01, best bound 4.007301470588e+01, gap 0.0000%\n",
      "[0.0, 0.0, 67.875, 0.0, 0.0, 47.375, 12.125, 0.0, 0.0, 0.0, 0.0, 0.0]\n"
     ]
    }
   ],
   "source": [
    "#Model 3\n",
    "x = np.asarray(df)\n",
    "x[0,12]\n",
    "\n",
    "from gurobipy import * \n",
    "mod = Model()\n",
    "\n",
    "m = mod.addVars(12)\n",
    "z = mod.addVars(1700)\n",
    "p = mod.addVars(12, vtype = GRB.BINARY)\n",
    "bbar = 100000\n",
    "\n",
    "mod.addConstr(p[6] == 1)\n",
    "mod.addConstr(sum(p[j] for j in range(12)) <= 3)\n",
    "\n",
    "for j in range(12): \n",
    "    mod.addConstr(m[j] <= bbar*p[j])\n",
    "    \n",
    "for i in range(1700):\n",
    "    mod.addConstr(z[i] >= x[i,12] - sum(m[j]*x[i,j] for j in range(12))) \n",
    "    mod.addConstr(z[i] >= sum(m[j]*x[i,j] for j in range(12)) - x[i,12])\n",
    "\n",
    "mod.setObjective(sum(z[i] for i in range(1700)) / 1700, GRB.MINIMIZE) \n",
    "\n",
    "mod.update()\n",
    "mod.optimize()\n",
    "\n",
    "opt_val3 = mod.objval\n",
    "\n",
    "beta3 = []\n",
    "for j in range(12):\n",
    "    beta3.append(m[j].x)\n",
    "print(beta3)"
   ]
  },
  {
   "cell_type": "code",
   "execution_count": 14,
   "id": "0ec55e55-cbbf-45e1-b62d-f92459db4654",
   "metadata": {},
   "outputs": [
    {
     "name": "stdout",
     "output_type": "stream",
     "text": [
      "latitude -0.0\n",
      "longitude 0.0\n",
      "Entire home 1.0\n",
      "accommodates 0.0\n",
      "bathrooms 0.0\n",
      "bedrooms 1.0\n",
      "beds 1.0\n",
      "cleaning_fee 0.0\n",
      "minimum_nights -0.0\n",
      "number_of_reviews -0.0\n",
      "review_scores_rating 0.0\n",
      "instant_bookable 0.0\n"
     ]
    }
   ],
   "source": [
    "for j in range(12):\n",
    "    print(list(df)[j], p[j].x)"
   ]
  },
  {
   "cell_type": "markdown",
   "id": "07e69431-4fff-4946-b9f7-924413c8f3ab",
   "metadata": {},
   "source": [
    "***The two other variables are Entire home and bedrooms***"
   ]
  },
  {
   "cell_type": "markdown",
   "id": "dfc84bd3-e45d-4106-b277-db2e903731e6",
   "metadata": {},
   "source": [
    "***coefficients related to entire home is 67.875 and bedrooms is 12.125***"
   ]
  },
  {
   "cell_type": "markdown",
   "id": "96faf76e-2ff7-4afc-84f2-35a6f25214ff",
   "metadata": {},
   "source": [
    "***The coeficient that is no longer in Model 3 is accommodates. In my opinion, the entire home and bedrooms are the 2 main features to determine the prices. Moreover, the number of beds (beds) and accomodates are kind of similar features to decide how many people can book a Airbnb. But number of beds are always more important to make the decision. Thus, accomodates was the feature to be dropped.***"
   ]
  },
  {
   "cell_type": "code",
   "execution_count": 15,
   "id": "107573c8-a5b5-4ec9-8d56-e964ccd230a6",
   "metadata": {},
   "outputs": [
    {
     "name": "stdout",
     "output_type": "stream",
     "text": [
      "The predict error of Model 3 is 38.59960658082976\n"
     ]
    }
   ],
   "source": [
    "x_test3 = np.asarray(df2)\n",
    "error_3 = (sum(abs(x_test3[i,12] - sum(beta3[j]*x_test3[i,j] for j in range(12))) for i in range(699)))/699\n",
    "print(\"The predict error of Model 3 is\", error_3)"
   ]
  }
 ],
 "metadata": {
  "kernelspec": {
   "display_name": "Python 3",
   "language": "python",
   "name": "python3"
  },
  "language_info": {
   "codemirror_mode": {
    "name": "ipython",
    "version": 3
   },
   "file_extension": ".py",
   "mimetype": "text/x-python",
   "name": "python",
   "nbconvert_exporter": "python",
   "pygments_lexer": "ipython3",
   "version": "3.8.8"
  }
 },
 "nbformat": 4,
 "nbformat_minor": 5
}
